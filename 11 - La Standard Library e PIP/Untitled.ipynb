{
 "cells": [
  {
   "cell_type": "code",
   "execution_count": null,
   "id": "8bee6272",
   "metadata": {},
   "outputs": [],
   "source": [
    "import sys\n",
    "sys.path"
   ]
  },
  {
   "cell_type": "code",
   "execution_count": null,
   "id": "a562d78e",
   "metadata": {},
   "outputs": [],
   "source": [
    "sys.platform"
   ]
  },
  {
   "cell_type": "code",
   "execution_count": null,
   "id": "44fdaba8",
   "metadata": {},
   "outputs": [],
   "source": [
    "sys.modules"
   ]
  },
  {
   "cell_type": "code",
   "execution_count": null,
   "id": "d747babd",
   "metadata": {},
   "outputs": [],
   "source": [
    "import numpy"
   ]
  },
  {
   "cell_type": "code",
   "execution_count": null,
   "id": "d8217497",
   "metadata": {},
   "outputs": [],
   "source": [
    "sys.modules[\"numpy\"]"
   ]
  },
  {
   "cell_type": "code",
   "execution_count": null,
   "id": "7f45c220",
   "metadata": {},
   "outputs": [],
   "source": [
    "numpy"
   ]
  },
  {
   "cell_type": "code",
   "execution_count": null,
   "id": "e9b45efc",
   "metadata": {},
   "outputs": [],
   "source": [
    "import math\n",
    "\n",
    "math.pow(2,10)"
   ]
  },
  {
   "cell_type": "code",
   "execution_count": null,
   "id": "53e5f7c5",
   "metadata": {},
   "outputs": [],
   "source": [
    "from os import *\n",
    "getcwd()"
   ]
  },
  {
   "cell_type": "code",
   "execution_count": null,
   "id": "56ee2b47",
   "metadata": {},
   "outputs": [],
   "source": [
    "listdir()"
   ]
  },
  {
   "cell_type": "code",
   "execution_count": null,
   "id": "cd751f49",
   "metadata": {},
   "outputs": [],
   "source": [
    "listdir(\"poesie\")"
   ]
  },
  {
   "cell_type": "code",
   "execution_count": 5,
   "id": "27990749",
   "metadata": {},
   "outputs": [],
   "source": [
    "from os import listdir, mkdir\n",
    "\n",
    "PATH = \"poesie/\"\n",
    "NEW_PATH = PATH+\"raccolta/\"\n",
    "NEW_FILE_NAME = NEW_PATH+\"raccolta_poesie.txt\"\n",
    "\n",
    "mkdir(NEW_PATH)\n",
    "\n",
    "wr = open(NEW_FILE_NAME, \"w\")\n",
    "\n",
    "i = 1\n",
    "\n",
    "for rd in listdir(PATH):\n",
    "    \n",
    "    if not \".txt\" in rd:\n",
    "        continue\n",
    "    \n",
    "    with open(PATH+rd) as f:\n",
    "    \n",
    "        wr.write(f\"POESIA {i}\\n\")\n",
    "        wr.write(f.read()+\"\\n\\n\")\n",
    "        i += 1\n",
    "wr.close()\n",
    "        \n",
    "        "
   ]
  },
  {
   "cell_type": "code",
   "execution_count": 19,
   "id": "6aac8830",
   "metadata": {},
   "outputs": [
    {
     "name": "stdout",
     "output_type": "stream",
     "text": [
      "Inserisci la data del tuo compleanno come gg/mm: 21/02\n",
      "Al tuo compleanno mancano 308 giorni\n"
     ]
    }
   ],
   "source": [
    "from datetime import datetime as dt\n",
    "\n",
    "today = dt.now()\n",
    "\n",
    "bday = input(\"Inserisci la data del tuo compleanno come gg/mm: \")\n",
    "\n",
    "bd_date = dt.strptime(bday, \"%d/%m\")\n",
    "\n",
    "bd_date = bd_date.replace(year=today.year)\n",
    "\n",
    "# Verifichiamo se è già passato per quest'anno\n",
    "\n",
    "if bd_date < today:\n",
    "    bd_date = bd_date.replace(year=today.year+1)\n",
    "\n",
    "date_diff = bd_date - today\n",
    "\n",
    "print(f\"Al tuo compleanno mancano {date_diff.days} giorni\")"
   ]
  },
  {
   "cell_type": "code",
   "execution_count": 24,
   "id": "29e6c574",
   "metadata": {},
   "outputs": [],
   "source": [
    "from math import e, pow\n",
    "\n",
    "def sigmoide(z):\n",
    "    return 1 / (1+pow(e,-z))\n",
    "\n",
    "def relu(z):\n",
    "    if z<0:\n",
    "        return 0\n",
    "    else:\n",
    "        return z\n",
    "    # return max(0,z)\n",
    "\n",
    "def tanh(z):\n",
    "    return (1-pow(e,-2*z)) / (1+pow(e,-2*z))\n",
    "\n",
    "def logloss(y, a):\n",
    "    \n",
    "    assert(len(y)==len(a)), \"y e a devono avere la stessa lunghezza\"\n",
    "    loss = 0\n",
    "    \n",
    "    for y_i, a_i in zip(y, a):\n",
    "        loss += y_i*math.log(a_i)+(1-y_i)*math.log(1-a_i)\n",
    "        \n",
    "    loss/=-len(y)\n",
    "        \n",
    "    "
   ]
  },
  {
   "cell_type": "code",
   "execution_count": 25,
   "id": "c8dc459a",
   "metadata": {},
   "outputs": [
    {
     "data": {
      "text/plain": [
       "0.7310585786300049"
      ]
     },
     "execution_count": 25,
     "metadata": {},
     "output_type": "execute_result"
    }
   ],
   "source": [
    "sigmoide(1)"
   ]
  },
  {
   "cell_type": "code",
   "execution_count": 26,
   "id": "5fc0f625",
   "metadata": {},
   "outputs": [
    {
     "data": {
      "text/plain": [
       "0"
      ]
     },
     "execution_count": 26,
     "metadata": {},
     "output_type": "execute_result"
    }
   ],
   "source": [
    "relu(-0.12)"
   ]
  },
  {
   "cell_type": "code",
   "execution_count": 27,
   "id": "b0dfb90b",
   "metadata": {},
   "outputs": [
    {
     "data": {
      "text/plain": [
       "0.7615941559557649"
      ]
     },
     "execution_count": 27,
     "metadata": {},
     "output_type": "execute_result"
    }
   ],
   "source": [
    "tanh(1)"
   ]
  },
  {
   "cell_type": "code",
   "execution_count": 28,
   "id": "48d6d7f3",
   "metadata": {},
   "outputs": [
    {
     "data": {
      "text/plain": [
       "'/home/adepaolis/anaconda3/bin/python'"
      ]
     },
     "execution_count": 28,
     "metadata": {},
     "output_type": "execute_result"
    }
   ],
   "source": [
    "import sys \n",
    "sys.executable"
   ]
  },
  {
   "cell_type": "code",
   "execution_count": null,
   "id": "a3191482",
   "metadata": {},
   "outputs": [],
   "source": []
  }
 ],
 "metadata": {
  "kernelspec": {
   "display_name": "Python 3 (ipykernel)",
   "language": "python",
   "name": "python3"
  },
  "language_info": {
   "codemirror_mode": {
    "name": "ipython",
    "version": 3
   },
   "file_extension": ".py",
   "mimetype": "text/x-python",
   "name": "python",
   "nbconvert_exporter": "python",
   "pygments_lexer": "ipython3",
   "version": "3.10.9"
  }
 },
 "nbformat": 4,
 "nbformat_minor": 5
}
